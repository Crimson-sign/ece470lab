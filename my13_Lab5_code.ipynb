{
 "cells": [
  {
   "cell_type": "code",
   "execution_count": 63,
   "metadata": {},
   "outputs": [
    {
     "name": "stdout",
     "output_type": "stream",
     "text": [
      "Modules Imported!\n"
     ]
    }
   ],
   "source": [
    "import numpy as np\n",
    "\n",
    "\n",
    "print (\"Modules Imported!\")"
   ]
  },
  {
   "cell_type": "code",
   "execution_count": 60,
   "metadata": {
    "collapsed": true
   },
   "outputs": [],
   "source": [
    "def invkinematics(x,y,z,t):\n",
    "    #define length parameters\n",
    "    L1 = 0.152\n",
    "    L2 = 0.120\n",
    "    L3 = 0.244\n",
    "    L4 = 0.093\n",
    "    L5 = 0.213\n",
    "    L6 = 0.083\n",
    "    L7 = 0.083\n",
    "    L8 = 0.082\n",
    "    L9 = 0.0535\n",
    "    L10= 0.059\n",
    "    \n",
    "    Zcen = z - 0.01\n",
    "    Xcen = x-L9*np.cos(t/180*np.pi)+0.15\n",
    "    Ycen = y-L9*np.sin(t/180*np.pi)-0.15\n",
    "    \n",
    "    theta1 = 90. - np.arctan2(Xcen,Ycen)/np.pi*180 - np.arcsin((L6+0.027)/(Xcen**2+Ycen**2)**0.5)/np.pi*180\n",
    "    y3end = Ycen - np.sin(theta1/180*np.pi)*L7 - np.cos(theta1/180*np.pi)*(L6+0.027)\n",
    "    x3end = Xcen - np.cos(theta1/180*np.pi)*L7 + np.sin(theta1/180*np.pi)*(L6+0.027)\n",
    "    z3end = Zcen + L10 + L8\n",
    "    \n",
    "    theta6 =  90. - t + theta1\n",
    "    theta5 = -90.\n",
    "    L = (x3end**2+y3end**2+(z3end-L1)**2)**0.5\n",
    "    theta3 = 180 - np.arccos((L3**2+L5**2-L**2)/2/L3/L5)*180/np.pi\n",
    "    theta2 = -np.arcsin((z3end-L1)/L)/np.pi*180 - np.arcsin(np.sin(np.pi-theta3*np.pi/180)*L5/L)/np.pi*180\n",
    "    theta4 = - theta3 - theta2\n",
    "    return [theta1,theta2,theta3,theta4,theta5,theta6]"
   ]
  },
  {
   "cell_type": "code",
   "execution_count": 65,
   "metadata": {},
   "outputs": [
    {
     "data": {
      "text/plain": [
       "[-58.018018246450744,\n",
       " -84.5256538707446,\n",
       " 88.26386091279613,\n",
       " -3.7382070420515277,\n",
       " -90.0,\n",
       " 76.98198175354926]"
      ]
     },
     "execution_count": 65,
     "metadata": {},
     "output_type": "execute_result"
    }
   ],
   "source": [
    "invkinematics(0.15,-0.1,0.25,-45)"
   ]
  },
  {
   "cell_type": "code",
   "execution_count": 66,
   "metadata": {},
   "outputs": [
    {
     "data": {
      "text/plain": [
       "[17.258737179784482,\n",
       " -53.36533049227521,\n",
       " 104.91023226949031,\n",
       " -51.544901777215095,\n",
       " -90.0,\n",
       " 62.25873717978448]"
      ]
     },
     "execution_count": 66,
     "metadata": {},
     "output_type": "execute_result"
    }
   ],
   "source": [
    "invkinematics(0.2,0.4,0.05,45)"
   ]
  }
 ],
 "metadata": {
  "kernelspec": {
   "display_name": "Python 3",
   "language": "python",
   "name": "python3"
  },
  "language_info": {
   "codemirror_mode": {
    "name": "ipython",
    "version": 3
   },
   "file_extension": ".py",
   "mimetype": "text/x-python",
   "name": "python",
   "nbconvert_exporter": "python",
   "pygments_lexer": "ipython3",
   "version": "3.7.3"
  }
 },
 "nbformat": 4,
 "nbformat_minor": 4
}
