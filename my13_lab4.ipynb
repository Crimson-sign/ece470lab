{
 "cells": [
  {
   "cell_type": "code",
   "execution_count": 6,
   "metadata": {},
   "outputs": [
    {
     "name": "stdout",
     "output_type": "stream",
     "text": [
      "Modules Imported!\n"
     ]
    }
   ],
   "source": [
    "import numpy as np\n",
    "import scipy as sp\n",
    "import scipy.stats as st\n",
    "from scipy import linalg as sl\n",
    "\n",
    "print (\"Modules Imported!\")"
   ]
  },
  {
   "cell_type": "code",
   "execution_count": 7,
   "metadata": {},
   "outputs": [
    {
     "name": "stdout",
     "output_type": "stream",
     "text": [
      "Function Imported!\n"
     ]
    }
   ],
   "source": [
    "#help function here\n",
    "\n",
    "#give S return [S]\n",
    "def braS(w):\n",
    "    return np.array([[0,-w[2],w[1],w[3]],[w[2],0,-w[0],w[4]],[-w[1],w[0],0,w[5]],[0,0,0,0]])\n",
    "\n",
    "print (\"Function Imported!\")"
   ]
  },
  {
   "cell_type": "code",
   "execution_count": 8,
   "metadata": {},
   "outputs": [
    {
     "data": {
      "text/plain": [
       "[array([ 0.15,  0.15, -0.  ]),\n",
       " array([-0.162,  0.   , -0.15 ]),\n",
       " array([-0.162, -0.   ,  0.094]),\n",
       " array([-0.162, -0.   ,  0.307]),\n",
       " array([-0.   ,  0.162, -0.26 ]),\n",
       " array([-0.162, -0.   ,  0.39 ])]"
      ]
     },
     "execution_count": 8,
     "metadata": {},
     "output_type": "execute_result"
    }
   ],
   "source": [
    "# joint infomation:\n",
    "w =[[0,0,1],\n",
    "    [0,1,0],\n",
    "    [0,1,0],\n",
    "    [0,1,0],\n",
    "    [1,0,0],\n",
    "    [0,1,0]]\n",
    "\n",
    "q = [[-0.15,0.15,0.01],\n",
    "     [-0.15,0.27,0.162],\n",
    "     [0.094,0.27,0.162],\n",
    "     [0.307,0.177,0.162],\n",
    "     [0.307,0.26,0.162],\n",
    "     [0.39,0.26,0.162]]\n",
    "\n",
    "M= [[0,-1,0,0.39],\n",
    "    [0,0,-1,0.401],\n",
    "    [1,0,0,0.2155],\n",
    "    [0,0,0,1]]\n",
    "\n",
    "v=[]\n",
    "ST=[]\n",
    "for i in range(6):\n",
    "    v.append(-np.cross(np.array(w[i]),np.array(q[i])))\n",
    "    ST.append(w[i]+list(v[i]))\n",
    "S = np.array(ST).T\n",
    "\n",
    "def HomT(S, theta):\n",
    "    theta = np.array(theta)/180*np.pi\n",
    "    T = np.dot(np.dot(np.dot(np.dot(np.dot(np.dot(sl.expm(braS(S[:,0])*theta[0]),sl.expm(braS(S[:,1])*theta[1])),sl.expm(braS(S[:,2])*theta[2])),sl.expm(braS(S[:,3])*theta[3])),sl.expm(braS(S[:,4])*theta[4])),sl.expm(braS(S[:,5])*theta[5])),M)\n",
    "    print(T)\n",
    "    return T\n",
    "def d06(T):\n",
    "    return T[    :3    ,3]\n",
    "v"
   ]
  },
  {
   "cell_type": "code",
   "execution_count": 11,
   "metadata": {},
   "outputs": [
    {
     "name": "stdout",
     "output_type": "stream",
     "text": [
      "test\n",
      "T06 0f test 1 is\n",
      "[[ 0.64278761 -0.76312941 -0.06676517  0.2958759 ]\n",
      " [ 0.76604444  0.64034161  0.05602263 -0.01070021]\n",
      " [ 0.         -0.08715574  0.9961947   0.12566763]\n",
      " [ 0.          0.          0.          1.        ]]\n",
      "d06 of test 1 is [ 0.2958759  -0.01070021  0.12566763]\n",
      "T06 0f test 2 is\n",
      "[[-3.42020143e-01 -9.39692621e-01 -7.61837614e-17  1.34280436e-01]\n",
      " [ 9.39692621e-01 -3.42020143e-01  5.12902306e-18  4.27462683e-01]\n",
      " [ 0.00000000e+00  2.14607521e-16  1.00000000e+00  9.07064360e-03]\n",
      " [ 0.00000000e+00  0.00000000e+00  0.00000000e+00  1.00000000e+00]]\n",
      "d06 of test 2 is [0.13428044 0.42746268 0.00907064]\n",
      "T06 0f test 3 is\n",
      "[[ 0.79749685 -0.28901683  0.52959234 -0.12664993]\n",
      " [-0.16797404  0.73672124  0.65500117 -0.16975584]\n",
      " [-0.57946829 -0.61131913  0.53898554  0.37724118]\n",
      " [ 0.          0.          0.          1.        ]]\n",
      "d06 of test 3 is [-0.12664993 -0.16975584  0.37724118]\n",
      "T06 0f test 4 is\n",
      "[[-0.49365465 -0.60775435 -0.6220448   0.24472603]\n",
      " [ 0.82017711 -0.08752883 -0.5653744   0.29813582]\n",
      " [ 0.2891619  -0.78928661  0.54167522  0.35775136]\n",
      " [ 0.          0.          0.          1.        ]]\n",
      "d06 of test 4 is [0.24472603 0.29813582 0.35775136]\n",
      "T06 0f test 5 is\n",
      "[[-0.13540134 -0.90278714 -0.40821789  0.38072279]\n",
      " [ 0.97455954 -0.19562553  0.10938165  0.17187156]\n",
      " [-0.1786062  -0.38302222  0.90630779  0.16144421]\n",
      " [ 0.          0.          0.          1.        ]]\n",
      "d06 of test 5 is [0.38072279 0.17187156 0.16144421]\n"
     ]
    }
   ],
   "source": [
    "theta = [[-40,-50,75,-30,-90,0],\n",
    "         [20,-45,105,-60,-90,0],\n",
    "         [-105,-105,100,-50,-110,-30],\n",
    "         [-15,-80,90,-50,-45,-20],\n",
    "         [-15,-40,55,-40,-90,-25],\n",
    "         [35,-35,25,-20,-90,0],\n",
    "         [10,-25,35,-45,-90,10]]\n",
    "print('test')\n",
    "for i in range(5):\n",
    "    print('T06 0f test',i+1,\"is\")\n",
    "    print('d06 of test',i+1,\"is\",d06(HomT(S,theta[i])))\n",
    "\n"
   ]
  },
  {
   "cell_type": "code",
   "execution_count": 10,
   "metadata": {},
   "outputs": [
    {
     "name": "stdout",
     "output_type": "stream",
     "text": [
      "question:\n",
      "\n",
      "transform matrix for config1 is:\n",
      "[[-0.57357644 -0.70940648 -0.40957602  0.20840632]\n",
      " [ 0.81915204 -0.49673176 -0.28678822  0.60055545]\n",
      " [ 0.         -0.5         0.8660254   0.25833013]\n",
      " [ 0.          0.          0.          1.        ]]\n",
      "d06 for config1 is\n",
      " [0.20840632 0.60055545 0.25833013]\n",
      "\n",
      "transform matrix for config2 is:\n",
      "[[-0.03092682 -0.82460528 -0.56486252  0.4002032 ]\n",
      " [ 0.99454677  0.03092682 -0.0996005   0.4122126 ]\n",
      " [ 0.0996005  -0.56486252  0.81915204  0.16556683]\n",
      " [ 0.          0.          0.          1.        ]]\n",
      "d06 for config2 is\n",
      " [0.4002032  0.4122126  0.16556683]\n"
     ]
    }
   ],
   "source": [
    "print('question:\\n')\n",
    "print('transform matrix for config1 is:')\n",
    "T5 = HomT(S,theta[5])\n",
    "print('d06 for config1 is\\n',d06(T5))\n",
    "\n",
    "print('\\ntransform matrix for config2 is:')\n",
    "T6 = HomT(S,theta[6])\n",
    "print('d06 for config2 is\\n',d06(T6))"
   ]
  },
  {
   "cell_type": "code",
   "execution_count": 46,
   "metadata": {},
   "outputs": [],
   "source": [
    "import sympy as syp\n",
    "n=6;\n",
    "thetas = syp.symbols(['theta'+str(1+k) for k in range(6)], real=True);\n",
    "type(thetas[1])\n",
    "s = [syp.Matrix(braS(S[:,i])*thetas[i]) for i in range(6)]\n",
    "expT = [syp.simplify(syp.exp(s[i]))for i in range(6)]"
   ]
  },
  {
   "cell_type": "code",
   "execution_count": 54,
   "metadata": {},
   "outputs": [
    {
     "data": {
      "text/latex": [
       "$\\displaystyle \\left[\\begin{matrix}1.0 \\cos{\\left(θ1 \\right)} & - 1.0 \\sin{\\left(θ1 \\right)} & 0 & 0.15 \\sqrt{2} \\sin{\\left(θ1 + \\frac{\\pi}{4} \\right)} - 0.15\\\\1.0 \\sin{\\left(θ1 \\right)} & 1.0 \\cos{\\left(θ1 \\right)} & 0 & - 0.15 \\sqrt{2} \\cos{\\left(θ1 + \\frac{\\pi}{4} \\right)} + 0.15\\\\0 & 0 & 1.0 & 0\\\\0 & 0 & 0 & 1.0\\end{matrix}\\right]$"
      ],
      "text/plain": [
       "Matrix([\n",
       "[1.0*cos(θ1), -1.0*sin(θ1),   0,  0.15*sqrt(2)*sin(θ1 + pi/4) - 0.15],\n",
       "[1.0*sin(θ1),  1.0*cos(θ1),   0, -0.15*sqrt(2)*cos(θ1 + pi/4) + 0.15],\n",
       "[          0,            0, 1.0,                                   0],\n",
       "[          0,            0,   0,                                 1.0]])"
      ]
     },
     "execution_count": 54,
     "metadata": {},
     "output_type": "execute_result"
    }
   ],
   "source": [
    "expT[0]"
   ]
  },
  {
   "cell_type": "code",
   "execution_count": 47,
   "metadata": {},
   "outputs": [
    {
     "data": {
      "text/latex": [
       "$\\displaystyle \\left[\\begin{matrix}1.0 \\cos{\\left(θ2 \\right)} & 0 & 1.0 \\sin{\\left(θ2 \\right)} & - 0.162 \\sin{\\left(θ2 \\right)} + 0.15 \\cos{\\left(θ2 \\right)} - 0.15\\\\0 & 1.0 & 0 & 0\\\\- 1.0 \\sin{\\left(θ2 \\right)} & 0 & 1.0 \\cos{\\left(θ2 \\right)} & - 0.15 \\sin{\\left(θ2 \\right)} - 0.162 \\cos{\\left(θ2 \\right)} + 0.162\\\\0 & 0 & 0 & 1.0\\end{matrix}\\right]$"
      ],
      "text/plain": [
       "Matrix([\n",
       "[ 1.0*cos(θ2),   0, 1.0*sin(θ2),  -0.162*sin(θ2) + 0.15*cos(θ2) - 0.15],\n",
       "[           0, 1.0,           0,                                     0],\n",
       "[-1.0*sin(θ2),   0, 1.0*cos(θ2), -0.15*sin(θ2) - 0.162*cos(θ2) + 0.162],\n",
       "[           0,   0,           0,                                   1.0]])"
      ]
     },
     "execution_count": 47,
     "metadata": {},
     "output_type": "execute_result"
    }
   ],
   "source": [
    "expT[1]"
   ]
  },
  {
   "cell_type": "code",
   "execution_count": 48,
   "metadata": {},
   "outputs": [
    {
     "data": {
      "text/latex": [
       "$\\displaystyle \\left[\\begin{matrix}1.0 \\cos{\\left(θ3 \\right)} & 0 & 1.0 \\sin{\\left(θ3 \\right)} & - 0.162 \\sin{\\left(θ3 \\right)} - 0.094 \\cos{\\left(θ3 \\right)} + 0.094\\\\0 & 1.0 & 0 & 0\\\\- 1.0 \\sin{\\left(θ3 \\right)} & 0 & 1.0 \\cos{\\left(θ3 \\right)} & 0.094 \\sin{\\left(θ3 \\right)} - 0.162 \\cos{\\left(θ3 \\right)} + 0.162\\\\0 & 0 & 0 & 1.0\\end{matrix}\\right]$"
      ],
      "text/plain": [
       "Matrix([\n",
       "[ 1.0*cos(θ3),   0, 1.0*sin(θ3), -0.162*sin(θ3) - 0.094*cos(θ3) + 0.094],\n",
       "[           0, 1.0,           0,                                      0],\n",
       "[-1.0*sin(θ3),   0, 1.0*cos(θ3),  0.094*sin(θ3) - 0.162*cos(θ3) + 0.162],\n",
       "[           0,   0,           0,                                    1.0]])"
      ]
     },
     "execution_count": 48,
     "metadata": {},
     "output_type": "execute_result"
    }
   ],
   "source": [
    "expT[2]"
   ]
  },
  {
   "cell_type": "code",
   "execution_count": 49,
   "metadata": {},
   "outputs": [
    {
     "data": {
      "text/latex": [
       "$\\displaystyle \\left[\\begin{matrix}1.0 \\cos{\\left(θ4 \\right)} & 0 & 1.0 \\sin{\\left(θ4 \\right)} & - 0.162 \\sin{\\left(θ4 \\right)} - 0.307 \\cos{\\left(θ4 \\right)} + 0.307\\\\0 & 1.0 & 0 & 0\\\\- 1.0 \\sin{\\left(θ4 \\right)} & 0 & 1.0 \\cos{\\left(θ4 \\right)} & 0.307 \\sin{\\left(θ4 \\right)} - 0.162 \\cos{\\left(θ4 \\right)} + 0.162\\\\0 & 0 & 0 & 1.0\\end{matrix}\\right]$"
      ],
      "text/plain": [
       "Matrix([\n",
       "[ 1.0*cos(θ4),   0, 1.0*sin(θ4), -0.162*sin(θ4) - 0.307*cos(θ4) + 0.307],\n",
       "[           0, 1.0,           0,                                      0],\n",
       "[-1.0*sin(θ4),   0, 1.0*cos(θ4),  0.307*sin(θ4) - 0.162*cos(θ4) + 0.162],\n",
       "[           0,   0,           0,                                    1.0]])"
      ]
     },
     "execution_count": 49,
     "metadata": {},
     "output_type": "execute_result"
    }
   ],
   "source": [
    "expT[3]"
   ]
  },
  {
   "cell_type": "code",
   "execution_count": 50,
   "metadata": {},
   "outputs": [
    {
     "data": {
      "text/latex": [
       "$\\displaystyle \\left[\\begin{matrix}1.0 & 0 & 0 & 0\\\\0 & 1.0 \\cos{\\left(θ5 \\right)} & - 1.0 \\sin{\\left(θ5 \\right)} & 0.162 \\sin{\\left(θ5 \\right)} - 0.26 \\cos{\\left(θ5 \\right)} + 0.26\\\\0 & 1.0 \\sin{\\left(θ5 \\right)} & 1.0 \\cos{\\left(θ5 \\right)} & - 0.26 \\sin{\\left(θ5 \\right)} - 0.162 \\cos{\\left(θ5 \\right)} + 0.162\\\\0 & 0 & 0 & 1.0\\end{matrix}\\right]$"
      ],
      "text/plain": [
       "Matrix([\n",
       "[1.0,           0,            0,                                     0],\n",
       "[  0, 1.0*cos(θ5), -1.0*sin(θ5),   0.162*sin(θ5) - 0.26*cos(θ5) + 0.26],\n",
       "[  0, 1.0*sin(θ5),  1.0*cos(θ5), -0.26*sin(θ5) - 0.162*cos(θ5) + 0.162],\n",
       "[  0,           0,            0,                                   1.0]])"
      ]
     },
     "execution_count": 50,
     "metadata": {},
     "output_type": "execute_result"
    }
   ],
   "source": [
    "expT[4]"
   ]
  },
  {
   "cell_type": "code",
   "execution_count": 51,
   "metadata": {},
   "outputs": [
    {
     "data": {
      "text/latex": [
       "$\\displaystyle \\left[\\begin{matrix}1.0 \\cos{\\left(θ6 \\right)} & 0 & 1.0 \\sin{\\left(θ6 \\right)} & - 0.162 \\sin{\\left(θ6 \\right)} - 0.39 \\cos{\\left(θ6 \\right)} + 0.39\\\\0 & 1.0 & 0 & 0\\\\- 1.0 \\sin{\\left(θ6 \\right)} & 0 & 1.0 \\cos{\\left(θ6 \\right)} & 0.39 \\sin{\\left(θ6 \\right)} - 0.162 \\cos{\\left(θ6 \\right)} + 0.162\\\\0 & 0 & 0 & 1.0\\end{matrix}\\right]$"
      ],
      "text/plain": [
       "Matrix([\n",
       "[ 1.0*cos(θ6),   0, 1.0*sin(θ6), -0.162*sin(θ6) - 0.39*cos(θ6) + 0.39],\n",
       "[           0, 1.0,           0,                                    0],\n",
       "[-1.0*sin(θ6),   0, 1.0*cos(θ6), 0.39*sin(θ6) - 0.162*cos(θ6) + 0.162],\n",
       "[           0,   0,           0,                                  1.0]])"
      ]
     },
     "execution_count": 51,
     "metadata": {},
     "output_type": "execute_result"
    }
   ],
   "source": [
    "expT[5]"
   ]
  }
 ],
 "metadata": {
  "kernelspec": {
   "display_name": "Python 3",
   "language": "python",
   "name": "python3"
  },
  "language_info": {
   "codemirror_mode": {
    "name": "ipython",
    "version": 3
   },
   "file_extension": ".py",
   "mimetype": "text/x-python",
   "name": "python",
   "nbconvert_exporter": "python",
   "pygments_lexer": "ipython3",
   "version": "3.7.3"
  }
 },
 "nbformat": 4,
 "nbformat_minor": 2
}
